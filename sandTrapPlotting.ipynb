{
 "cells": [
  {
   "cell_type": "code",
   "execution_count": 1,
   "metadata": {},
   "outputs": [
    {
     "name": "stdout",
     "output_type": "stream",
     "text": [
      "0\n",
      "1\n",
      "2\n",
      "3\n",
      "4\n",
      "5\n",
      "6\n",
      "7\n",
      "8\n",
      "9\n",
      "10\n",
      "11\n",
      "12\n",
      "13\n",
      "14\n",
      "15\n",
      "16\n",
      "17\n",
      "18\n",
      "19\n",
      "20\n",
      "21\n",
      "22\n",
      "23\n",
      "24\n"
     ]
    },
    {
     "ename": "IndexError",
     "evalue": "too many indices for array: array is 1-dimensional, but 2 were indexed",
     "output_type": "error",
     "traceback": [
      "\u001b[31m---------------------------------------------------------------------------\u001b[39m",
      "\u001b[31mIndexError\u001b[39m                                Traceback (most recent call last)",
      "\u001b[36mCell\u001b[39m\u001b[36m \u001b[39m\u001b[32mIn[1]\u001b[39m\u001b[32m, line 57\u001b[39m\n\u001b[32m     54\u001b[39m     \u001b[38;5;66;03m# print completion message\u001b[39;00m\n\u001b[32m     55\u001b[39m     \u001b[38;5;28mprint\u001b[39m(\u001b[33m\"\u001b[39m\u001b[33mPlots generated and saved as GIF.\u001b[39m\u001b[33m\"\u001b[39m)\n\u001b[32m---> \u001b[39m\u001b[32m57\u001b[39m main()\n",
      "\u001b[36mCell\u001b[39m\u001b[36m \u001b[39m\u001b[32mIn[1]\u001b[39m\u001b[32m, line 22\u001b[39m, in \u001b[36mmain\u001b[39m\u001b[34m()\u001b[39m\n\u001b[32m     19\u001b[39m plt.figure(figsize=(\u001b[32m10\u001b[39m, \u001b[32m10\u001b[39m))\n\u001b[32m     20\u001b[39m \u001b[38;5;28;01mtry\u001b[39;00m:\n\u001b[32m     21\u001b[39m     plt.errorbar(\n\u001b[32m---> \u001b[39m\u001b[32m22\u001b[39m     targets[:, \u001b[32m0\u001b[39m],\n\u001b[32m     23\u001b[39m     targets[:, \u001b[32m1\u001b[39m],\n\u001b[32m     24\u001b[39m     xerr=std[:, \u001b[32m0\u001b[39m],\n\u001b[32m     25\u001b[39m     yerr=std[:, \u001b[32m1\u001b[39m],\n\u001b[32m     26\u001b[39m     fmt=\u001b[33m\"\u001b[39m\u001b[33mo\u001b[39m\u001b[33m\"\u001b[39m,\n\u001b[32m     27\u001b[39m     label=\u001b[33m\"\u001b[39m\u001b[33mObjective 1\u001b[39m\u001b[33m\"\u001b[39m,\n\u001b[32m     28\u001b[39m     capsize=\u001b[32m5\u001b[39m,\n\u001b[32m     29\u001b[39m     errorevery=\u001b[32m1\u001b[39m,\n\u001b[32m     30\u001b[39m )\n\u001b[32m     31\u001b[39m \u001b[38;5;28;01mexcept\u001b[39;00m \u001b[38;5;167;01mValueError\u001b[39;00m:\n\u001b[32m     32\u001b[39m     plt.scatter(targets[:,\u001b[32m0\u001b[39m], targets[:,\u001b[32m1\u001b[39m])\n",
      "\u001b[31mIndexError\u001b[39m: too many indices for array: array is 1-dimensional, but 2 were indexed"
     ]
    },
    {
     "data": {
      "text/plain": [
       "<Figure size 1000x1000 with 0 Axes>"
      ]
     },
     "metadata": {},
     "output_type": "display_data"
    }
   ],
   "source": [
    "import matplotlib.pyplot as plt\n",
    "import numpy as np\n",
    "import torch\n",
    "import glob\n",
    "# read in each iteration's features, targets, and std\n",
    "\n",
    "def main():\n",
    "\n",
    "\n",
    "    filesList = glob.glob(\"sandTrapParetoFronts/features/*\")\n",
    "\n",
    "\n",
    "    for iteration in range(len(filesList)):\n",
    "        features = np.loadtxt(f\"sandTrapParetoFronts/features/featuresIter{iteration}.txt\")\n",
    "        targets = np.loadtxt(f\"sandTrapParetoFronts/targets/targetsIter{iteration}.txt\")\n",
    "        std = np.loadtxt(f\"sandTrapParetoFronts/uncertainties/stdIter{iteration}.txt\")\n",
    "        print(iteration)\n",
    "        # plot targets with error bars\n",
    "        plt.figure(figsize=(10, 10))\n",
    "        try:\n",
    "            plt.errorbar(\n",
    "            targets[:, 0],\n",
    "            targets[:, 1],\n",
    "            xerr=std[:, 0],\n",
    "            yerr=std[:, 1],\n",
    "            fmt=\"o\",\n",
    "            label=\"Objective 1\",\n",
    "            capsize=5,\n",
    "            errorevery=1,\n",
    "        )\n",
    "        except ValueError:\n",
    "            plt.scatter(targets[:,0], targets[:,1])\n",
    "\n",
    "\n",
    "        plt.title(f\"Iteration {iteration} - Targets with Uncertainty\")\n",
    "        plt.xlabel(\"Objective 1\")\n",
    "        plt.ylabel(\"Objective 2\")\n",
    "        #plt.xlim(-30, 250)\n",
    "        #plt.ylim(-30, 250)\n",
    "        # plt.grid(True)\n",
    "        plt.savefig(f\"sandTrapParetoFronts/paretoPlots/iteration_{iteration}.png\")\n",
    "        plt.close()\n",
    "        # plt.show()\n",
    "\n",
    "    # load in all saved figures and generate an animated GIF\n",
    "    import imageio\n",
    "\n",
    "    images = []\n",
    "    for iteration in range(len(filesList)):\n",
    "        images.append(\n",
    "            imageio.imread(f\"sandTrapParetoFronts/paretoPlots/iteration_{iteration}.png\")\n",
    "        )\n",
    "    imageio.mimsave(\"pareto_animation.gif\", images, duration=1)\n",
    "    # print completion message\n",
    "    print(\"Plots generated and saved as GIF.\")\n",
    "\n",
    "main()\n"
   ]
  }
 ],
 "metadata": {
  "kernelspec": {
   "display_name": "boTorch",
   "language": "python",
   "name": "python3"
  },
  "language_info": {
   "codemirror_mode": {
    "name": "ipython",
    "version": 3
   },
   "file_extension": ".py",
   "mimetype": "text/x-python",
   "name": "python",
   "nbconvert_exporter": "python",
   "pygments_lexer": "ipython3",
   "version": "3.11.13"
  }
 },
 "nbformat": 4,
 "nbformat_minor": 2
}
